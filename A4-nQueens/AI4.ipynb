{
 "cells": [
  {
   "cell_type": "code",
   "execution_count": 46,
   "id": "7acfa48f-86fe-4bd5-a666-540cea0ffedd",
   "metadata": {},
   "outputs": [],
   "source": [
    "#Implement a solution for a Constraint Satisfaction Problem using Branch and Bound and Backtracking nQueen"
   ]
  },
  {
   "cell_type": "code",
   "execution_count": 47,
   "id": "1ce91d8e-de21-4ade-b01a-7ce42e2380d5",
   "metadata": {},
   "outputs": [],
   "source": [
    "#no. of queen\n",
    "N = 4"
   ]
  },
  {
   "cell_type": "code",
   "execution_count": 48,
   "id": "18c1bbda-47ca-4467-92e7-5e1b725168c9",
   "metadata": {},
   "outputs": [],
   "source": [
    "queen = \"Q\"\n",
    "empty = \"_\""
   ]
  },
  {
   "cell_type": "code",
   "execution_count": 49,
   "id": "d7557a39-8daf-4cc6-a82b-92b65e1d5bed",
   "metadata": {},
   "outputs": [],
   "source": [
    "b = [[empty] * N for i in range(N)]"
   ]
  },
  {
   "cell_type": "code",
   "execution_count": 50,
   "id": "1d9166a9-6496-4da5-a7aa-94b61df5ba67",
   "metadata": {},
   "outputs": [],
   "source": [
    "def isSafe(i,j):\n",
    "    for p in range(N):\n",
    "        if b[i][p] == queen or b[p][j] == queen:\n",
    "            return False\n",
    "            \n",
    "    for n in range(N):\n",
    "        for m in range(N):\n",
    "            if i+j == n+m or i-j == n-m:\n",
    "                if b[n][m] == queen:\n",
    "                    return False\n",
    "                    \n",
    "    return True\n",
    "    "
   ]
  },
  {
   "cell_type": "code",
   "execution_count": 51,
   "id": "f627909f-e271-49d5-beba-08a03d616dd3",
   "metadata": {},
   "outputs": [],
   "source": [
    "def nqueen(noq):\n",
    "    if noq == 0:\n",
    "        return True\n",
    "        \n",
    "    for i in range(N):\n",
    "        for j in range(N):\n",
    "            if b[i][j] != queen and isSafe(i,j):\n",
    "                b[i][j] = queen\n",
    "                if nqueen(noq-1) == True:\n",
    "                    return True\n",
    "                b[i][j] = empty\n",
    "\n",
    "    return False\n"
   ]
  },
  {
   "cell_type": "code",
   "execution_count": 52,
   "id": "013ca814-7fe7-43bb-82d3-889a0a8ceaf4",
   "metadata": {},
   "outputs": [],
   "source": [
    "def printBoard(b):\n",
    "    for i in b:\n",
    "        print(i)"
   ]
  },
  {
   "cell_type": "code",
   "execution_count": 53,
   "id": "8d7b691d-fc99-46c6-ae08-a8bc17f5dc28",
   "metadata": {},
   "outputs": [
    {
     "name": "stdout",
     "output_type": "stream",
     "text": [
      "['_', 'Q', '_', '_']\n",
      "['_', '_', '_', 'Q']\n",
      "['Q', '_', '_', '_']\n",
      "['_', '_', 'Q', '_']\n"
     ]
    }
   ],
   "source": [
    "if nqueen(N):\n",
    "    printBoard(b)\n",
    "else:\n",
    "    print(\"Cant't Place\")"
   ]
  },
  {
   "cell_type": "code",
   "execution_count": null,
   "id": "3b7f783e-9062-4387-af96-c2ccc9053ff8",
   "metadata": {},
   "outputs": [],
   "source": []
  }
 ],
 "metadata": {
  "kernelspec": {
   "display_name": "Python 3 (ipykernel)",
   "language": "python",
   "name": "python3"
  },
  "language_info": {
   "codemirror_mode": {
    "name": "ipython",
    "version": 3
   },
   "file_extension": ".py",
   "mimetype": "text/x-python",
   "name": "python",
   "nbconvert_exporter": "python",
   "pygments_lexer": "ipython3",
   "version": "3.11.7"
  }
 },
 "nbformat": 4,
 "nbformat_minor": 5
}
