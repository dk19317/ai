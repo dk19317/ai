{
 "cells": [
  {
   "cell_type": "code",
   "execution_count": 16,
   "id": "624bda13-b202-4eaf-b95f-3f12c5cff430",
   "metadata": {},
   "outputs": [],
   "source": [
    "# BFS\n",
    "graph = {'A':['B', 'E', 'C'],\n",
    "         'B':['A', 'D', 'E'],\n",
    "         'D':['B', 'E'],\n",
    "         'E':['A', 'D', 'B'],\n",
    "         'C':['A', 'F', 'G'],\n",
    "         'F':['C'],\n",
    "         'G':['C']\n",
    "         }\n",
    "visited = []\n",
    "queue = []"
   ]
  },
  {
   "cell_type": "code",
   "execution_count": 18,
   "id": "91d984f5-3794-4c6a-af17-4354b5a15797",
   "metadata": {},
   "outputs": [],
   "source": [
    "def bfs(visited, graph, start_node, goal_node):\n",
    "    visited.append(start_node)\n",
    "    queue.append(start_node)\n",
    "    while queue:\n",
    "        m = queue.pop(0)\n",
    "        print(m)\n",
    "        if m == goal_node:\n",
    "            print(\"Node is Found !!! \")\n",
    "            break\n",
    "        else:\n",
    "            for n in graph[m]:\n",
    "                if n not in visited:\n",
    "                    visited.append(n)\n",
    "                    queue.append(n)"
   ]
  },
  {
   "cell_type": "code",
   "execution_count": 19,
   "id": "b544d804-2bb1-4ac5-b9f3-7653b8948cea",
   "metadata": {},
   "outputs": [
    {
     "name": "stdout",
     "output_type": "stream",
     "text": [
      "The BFS Traversal is : \n",
      "A\n",
      "B\n",
      "E\n",
      "C\n",
      "D\n",
      "Node is Found !!! \n"
     ]
    }
   ],
   "source": [
    "print(\"The BFS Traversal is : \")\n",
    "bfs(visited, graph, 'A', 'D')\n"
   ]
  },
  {
   "cell_type": "code",
   "execution_count": 20,
   "id": "882a5428-0ed4-4b72-9b64-58cd1f100751",
   "metadata": {},
   "outputs": [],
   "source": [
    "#DFS\n",
    "graph = {'A':['B', 'E', 'C'],\n",
    "         'B':['A', 'D', 'E'],\n",
    "         'D':['B', 'E'],\n",
    "         'E':['A', 'D', 'B'],\n",
    "         'C':['A', 'F', 'G'],      \n",
    "         'F':['C'],\n",
    "         'G':['C']\n",
    "         }\n",
    "\n",
    "visited = []\n",
    "stack = []"
   ]
  },
  {
   "cell_type": "code",
   "execution_count": 21,
   "id": "5cab9087-5ae9-423f-b20f-d0efd1c7cd6b",
   "metadata": {},
   "outputs": [],
   "source": [
    "def dfs(graph, start, goal):\n",
    "    print(\"DFS traveral is: \")\n",
    "    stack.append(start)\n",
    "    visited.append(start)\n",
    "    while stack:\n",
    "        node = stack[-1]\n",
    "        stack.pop()\n",
    "        print(\"Node: \", node)\n",
    "        if node == goal:\n",
    "            print(\"Goal node found!\")\n",
    "            return\n",
    "        for n in graph[node]:\n",
    "            if n not in visited:\n",
    "                visited.append(n)\n",
    "                stack.append(n)\n"
   ]
  },
  {
   "cell_type": "code",
   "execution_count": 22,
   "id": "bbf978be-1980-4159-808f-3c873b12aa72",
   "metadata": {},
   "outputs": [
    {
     "name": "stdout",
     "output_type": "stream",
     "text": [
      "The DFS Traversal is : \n",
      "DFS traveral is: \n",
      "Node:  A\n",
      "Node:  C\n",
      "Node:  G\n",
      "Node:  F\n",
      "Node:  E\n",
      "Node:  D\n",
      "Goal node found!\n"
     ]
    }
   ],
   "source": [
    "print(\"The DFS Traversal is : \")\n",
    "dfs(graph, 'A', \"D\")"
   ]
  },
  {
   "cell_type": "code",
   "execution_count": null,
   "id": "99a30cab-cb15-4424-b530-35e7365cf503",
   "metadata": {},
   "outputs": [],
   "source": []
  }
 ],
 "metadata": {
  "kernelspec": {
   "display_name": "Python 3 (ipykernel)",
   "language": "python",
   "name": "python3"
  },
  "language_info": {
   "codemirror_mode": {
    "name": "ipython",
    "version": 3
   },
   "file_extension": ".py",
   "mimetype": "text/x-python",
   "name": "python",
   "nbconvert_exporter": "python",
   "pygments_lexer": "ipython3",
   "version": "3.11.7"
  }
 },
 "nbformat": 4,
 "nbformat_minor": 5
}
