{
 "cells": [
  {
   "cell_type": "code",
   "execution_count": 1,
   "id": "a5e6a780-8e44-4a09-8669-0af50466c667",
   "metadata": {},
   "outputs": [],
   "source": [
    "class ExpertSystem:\n",
    "    def __init__(self):\n",
    "        self.knowledge_base = {\n",
    "            \"Fever\": [\"Influenza\", \"Common cold\", \"COVID-19\"],\n",
    "            \"Cough\": [\"Influenza\", \"Common cold\", \"COVID-19\"],\n",
    "            \"Difficulty breathing\": [\"COVID-19\"],\n",
    "            # Add more symptoms and associated conditions\n",
    "        }\n",
    "\n",
    "    def get_possible_conditions(self, symptoms):\n",
    "        possible_conditions = set()\n",
    "        for symptom in symptoms:\n",
    "            if symptom in self.knowledge_base:\n",
    "                possible_conditions.update(self.knowledge_base[symptom])\n",
    "        return possible_conditions\n",
    "\n",
    "    def diagnose(self, symptoms):\n",
    "        possible_conditions = self.get_possible_conditions(symptoms)\n",
    "        if not possible_conditions:\n",
    "            return \"No specific condition identified.\"\n",
    "        else:\n",
    "            return \"Possible conditions: \" + \", \".join(possible_conditions)\n"
   ]
  },
  {
   "cell_type": "code",
   "execution_count": 2,
   "id": "d148c833-a9b4-4ffc-85cf-13f25901d687",
   "metadata": {},
   "outputs": [],
   "source": [
    "def get_user_input(prompt):\n",
    "    while True:\n",
    "        user_input = input(prompt).strip()\n",
    "        if user_input:\n",
    "            return user_input"
   ]
  },
  {
   "cell_type": "code",
   "execution_count": 3,
   "id": "ca249f8a-5609-4c67-af25-725414ce65e7",
   "metadata": {},
   "outputs": [],
   "source": [
    "def main():\n",
    "    expert_system = ExpertSystem()\n",
    "    print(\"Welcome to the Hospital Expert System!\")\n",
    "    print(\"Please enter your symptoms (comma-separated) or 'quit' to exit.\")\n",
    "\n",
    "    while True:\n",
    "        symptoms_input = get_user_input(\"Enter symptoms: \")\n",
    "        if symptoms_input.lower() == \"quit\":\n",
    "            print(\"Exiting...\")\n",
    "            break\n",
    "        \n",
    "        symptoms = [symptom.strip() for symptom in symptoms_input.split(\",\")]\n",
    "        diagnosis = expert_system.diagnose(symptoms)\n",
    "        print(diagnosis)\n"
   ]
  },
  {
   "cell_type": "code",
   "execution_count": 7,
   "id": "47aa5ec4-93f9-4818-8145-af074005f709",
   "metadata": {},
   "outputs": [
    {
     "name": "stdout",
     "output_type": "stream",
     "text": [
      "Welcome to the Hospital Expert System!\n",
      "Please enter your symptoms (comma-separated) or 'quit' to exit.\n"
     ]
    },
    {
     "name": "stdin",
     "output_type": "stream",
     "text": [
      "Enter symptoms:  Fever\n"
     ]
    },
    {
     "name": "stdout",
     "output_type": "stream",
     "text": [
      "Possible conditions: COVID-19, Common cold, Influenza\n"
     ]
    },
    {
     "name": "stdin",
     "output_type": "stream",
     "text": [
      "Enter symptoms:  Cough\n"
     ]
    },
    {
     "name": "stdout",
     "output_type": "stream",
     "text": [
      "Possible conditions: COVID-19, Common cold, Influenza\n"
     ]
    },
    {
     "name": "stdin",
     "output_type": "stream",
     "text": [
      "Enter symptoms:  Diffuculty breathing\n"
     ]
    },
    {
     "name": "stdout",
     "output_type": "stream",
     "text": [
      "No specific condition identified.\n"
     ]
    },
    {
     "name": "stdin",
     "output_type": "stream",
     "text": [
      "Enter symptoms:  Difficulty breathing\n"
     ]
    },
    {
     "name": "stdout",
     "output_type": "stream",
     "text": [
      "Possible conditions: COVID-19\n"
     ]
    },
    {
     "name": "stdin",
     "output_type": "stream",
     "text": [
      "Enter symptoms:  quit\n"
     ]
    },
    {
     "name": "stdout",
     "output_type": "stream",
     "text": [
      "Exiting...\n"
     ]
    }
   ],
   "source": [
    "if __name__ == \"__main__\":\n",
    "    main()"
   ]
  }
 ],
 "metadata": {
  "kernelspec": {
   "display_name": "Python 3 (ipykernel)",
   "language": "python",
   "name": "python3"
  },
  "language_info": {
   "codemirror_mode": {
    "name": "ipython",
    "version": 3
   },
   "file_extension": ".py",
   "mimetype": "text/x-python",
   "name": "python",
   "nbconvert_exporter": "python",
   "pygments_lexer": "ipython3",
   "version": "3.11.7"
  }
 },
 "nbformat": 4,
 "nbformat_minor": 5
}
