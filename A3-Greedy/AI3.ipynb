{
 "cells": [
  {
   "cell_type": "code",
   "execution_count": 1,
   "id": "11575545-f306-4c07-b64a-43d846021855",
   "metadata": {},
   "outputs": [],
   "source": [
    "# I. Selection Sort"
   ]
  },
  {
   "cell_type": "code",
   "execution_count": 6,
   "id": "63ac9e85-52c2-4077-a16e-20635e48ed48",
   "metadata": {},
   "outputs": [],
   "source": [
    "def selectionSort(arr):\n",
    "    for i in range(len(arr)):\n",
    "        min = float('-inf')\n",
    "        for j in range(i + 1, len(arr)):\n",
    "            if arr[i] >arr[j]:\n",
    "                arr[i],arr[j] = arr[j], arr[i]\n",
    "    return arr"
   ]
  },
  {
   "cell_type": "code",
   "execution_count": 7,
   "id": "801759a7-8ca7-4e4f-a77b-a4c0fc6ed896",
   "metadata": {},
   "outputs": [
    {
     "name": "stdout",
     "output_type": "stream",
     "text": [
      "[16, 34, 45, 56, 59, 65]\n"
     ]
    }
   ],
   "source": [
    "print(selectionSort([59,56,45,34,65,16]))"
   ]
  },
  {
   "cell_type": "code",
   "execution_count": 8,
   "id": "f4886605-df17-4cf0-976b-2bd392e01aff",
   "metadata": {},
   "outputs": [],
   "source": [
    "# IV. Job Scheduling Problem "
   ]
  },
  {
   "cell_type": "code",
   "execution_count": 9,
   "id": "af3ef4a9-03df-4541-acbc-806401b953ce",
   "metadata": {},
   "outputs": [],
   "source": [
    "# Jobs, Profit, Slot\n",
    "profit = [15,27,10,100, 150]\n",
    "jobs = [\"j1\", \"j2\", \"j3\", \"j4\", \"j5\"]\n",
    "deadline = [2,3,3,3,4] \n",
    "profitNJobs = list(zip(profit,jobs,deadline))\n",
    "profitNJobs = sorted(profitNJobs, key = lambda x: x[0], reverse = True)\n",
    "slot = []"
   ]
  },
  {
   "cell_type": "code",
   "execution_count": 12,
   "id": "9b598857-644a-4025-b01d-7157d06b5fd0",
   "metadata": {},
   "outputs": [],
   "source": [
    "for _ in range(len(jobs)):\n",
    "    slot.append(0)\n",
    "    profit = 0\n",
    "    ans = []"
   ]
  },
  {
   "cell_type": "code",
   "execution_count": 13,
   "id": "99afdc13-41e3-48a5-aa88-603cc9eb9fb5",
   "metadata": {},
   "outputs": [],
   "source": [
    "for i in range(len(jobs)):\n",
    "    ans.append('null')"
   ]
  },
  {
   "cell_type": "code",
   "execution_count": 14,
   "id": "7b63d198-1db5-438b-a88e-a8dd01055a26",
   "metadata": {},
   "outputs": [],
   "source": [
    "for i in range(len(jobs)):\n",
    "    job = profitNJobs[i]\n",
    "        #check if slot is occupied\n",
    "    for j in range(job[2], 0, -1):\n",
    "        if slot[j] == 0:\n",
    "            ans[j] = job[1]\n",
    "            profit += job[0]\n",
    "            slot[j] = 1\n",
    "            break"
   ]
  },
  {
   "cell_type": "code",
   "execution_count": 15,
   "id": "5d59bc7f-bc65-449b-a758-efabe7ddc146",
   "metadata": {},
   "outputs": [
    {
     "name": "stdout",
     "output_type": "stream",
     "text": [
      "Jobs scheduled buddy: ['j1', 'j2', 'j4', 'j5']\n",
      "292\n"
     ]
    }
   ],
   "source": [
    "print(\"Jobs scheduled buddy:\",ans[1:])\n",
    "print(profit)"
   ]
  },
  {
   "cell_type": "code",
   "execution_count": null,
   "id": "45d809fb-868d-4f19-9fcf-607798267fef",
   "metadata": {},
   "outputs": [],
   "source": []
  }
 ],
 "metadata": {
  "kernelspec": {
   "display_name": "Python 3 (ipykernel)",
   "language": "python",
   "name": "python3"
  },
  "language_info": {
   "codemirror_mode": {
    "name": "ipython",
    "version": 3
   },
   "file_extension": ".py",
   "mimetype": "text/x-python",
   "name": "python",
   "nbconvert_exporter": "python",
   "pygments_lexer": "ipython3",
   "version": "3.11.7"
  }
 },
 "nbformat": 4,
 "nbformat_minor": 5
}
