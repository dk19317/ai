{
 "cells": [
  {
   "cell_type": "code",
   "execution_count": 5,
   "id": "30e369e6-f92c-4d76-8d8e-4469939e5bfa",
   "metadata": {},
   "outputs": [],
   "source": [
    "import copy"
   ]
  },
  {
   "cell_type": "code",
   "execution_count": 6,
   "id": "1a750c74-abc6-49b4-b9f2-4a8efaa9d80c",
   "metadata": {},
   "outputs": [],
   "source": [
    "final = [[1,2,3],[4,5,6],[7,8,-1]]"
   ]
  },
  {
   "cell_type": "code",
   "execution_count": 7,
   "id": "bd7c39ad-f89a-4e44-ab04-5a8b74396cf0",
   "metadata": {},
   "outputs": [],
   "source": [
    "initial = [[1,2,3],[-1,4,6],[7,5,8]]"
   ]
  },
  {
   "cell_type": "code",
   "execution_count": 8,
   "id": "b1e9d5f9-412b-48b3-a876-015523439e20",
   "metadata": {},
   "outputs": [],
   "source": [
    "#function to find heuristic cost\n",
    "def gn(state, finalstate):\n",
    "\tcount = 0\n",
    "\tfor i in range(3):\n",
    "\t\tfor j in range(3):\n",
    "\t\t\tif(state[i][j]!=-1):\n",
    "\t\t\t\tif(state[i][j] != finalstate[i][j]):\n",
    "\t\t\t\t\tcount+=1\n",
    "\treturn count"
   ]
  },
  {
   "cell_type": "code",
   "execution_count": 9,
   "id": "e36f2582-38ef-41fe-be0a-8b66cfeee0c5",
   "metadata": {},
   "outputs": [],
   "source": [
    "def findposofblank(state):\n",
    "\tfor i in range(3):\n",
    "\t\tfor j in range(3):\n",
    "\t\t\tif(state[i][j] == -1):\n",
    "\t\t\t\treturn [i,j]"
   ]
  },
  {
   "cell_type": "code",
   "execution_count": 10,
   "id": "d59a5caf-7d45-43cc-9bfe-655f43b1f4b7",
   "metadata": {},
   "outputs": [],
   "source": [
    "def move_left(state, pos):\n",
    "\tif(pos[1]==0):\n",
    "\t\treturn None\n",
    "\tretarr = copy.deepcopy(state)\n",
    "\tretarr[pos[0]][pos[1]],retarr[pos[0]][pos[1]-1] = retarr[pos[0]][pos[1]-1],retarr[pos[0]][pos[1]]\n",
    "\treturn retarr"
   ]
  },
  {
   "cell_type": "code",
   "execution_count": 11,
   "id": "b07eccfb-cc79-425f-8618-74f4858a7d8b",
   "metadata": {},
   "outputs": [],
   "source": [
    "def move_up(state, pos):\n",
    "\tif(pos[0]==0):\n",
    "\t\treturn None\n",
    "\tretarr = copy.deepcopy(state)\n",
    "\t#for i in state:\n",
    "\t\t#retarr.append(i)\n",
    "\tretarr[pos[0]][pos[1]],retarr[pos[0]-1][pos[1]] = retarr[pos[0]-1][pos[1]],retarr[pos[0]][pos[1]]\n",
    "\treturn retarr"
   ]
  },
  {
   "cell_type": "code",
   "execution_count": 12,
   "id": "f867636c-5aa6-4f76-8a50-af8337befb9c",
   "metadata": {},
   "outputs": [],
   "source": [
    "def move_right(state, pos):\n",
    "\tif(pos[1]==2):\n",
    "\t\treturn None\n",
    "\tretarr = copy.deepcopy(state)\n",
    "\t#for i in state:\n",
    "\t\t#retarr.append(i)\n",
    "\tretarr[pos[0]][pos[1]],retarr[pos[0]][pos[1]+1] = retarr[pos[0]][pos[1]+1],retarr[pos[0]][pos[1]]\n",
    "\treturn retarr"
   ]
  },
  {
   "cell_type": "code",
   "execution_count": 13,
   "id": "61fb34e5-4e92-4e69-9b36-2f1ec96a35b1",
   "metadata": {},
   "outputs": [],
   "source": [
    "def move_down(state, pos):\n",
    "\tif(pos[0]==2):\n",
    "\t\treturn None\n",
    "\tretarr = copy.deepcopy(state)\n",
    "\tretarr[pos[0]][pos[1]],retarr[pos[0]+1][pos[1]] = retarr[pos[0]+1][pos[1]],retarr[pos[0]][pos[1]]\n",
    "\treturn retarr"
   ]
  },
  {
   "cell_type": "code",
   "execution_count": 14,
   "id": "8d8a16d6-edaf-43a4-9a25-a244a28d763d",
   "metadata": {},
   "outputs": [],
   "source": [
    "def printMatrix(matricesArray):\n",
    "\tprint(\"\")\n",
    "\tcounter = 1\n",
    "\tfor matrix in matricesArray:\n",
    "\t\tprint(\"Step {}\".format(counter))\n",
    "\t\tfor row in matrix:\n",
    "\t\t\tprint(row)\n",
    "\t\tcounter+=1\n",
    "\t\tprint(\"\")"
   ]
  },
  {
   "cell_type": "code",
   "execution_count": 15,
   "id": "716fd774-e203-4ebc-bea0-4d3b46f25c7c",
   "metadata": {},
   "outputs": [],
   "source": [
    "def eightPuzzle(initialstate, finalstate):\n",
    "\thn=0\n",
    "\texplored = []\n",
    "\twhile(True):\n",
    "\t\texplored.append(initialstate)\n",
    "\t\tif(initialstate == finalstate):\n",
    "\t\t\tbreak\n",
    "\t\thn+=1\n",
    "\t\tleft = move_left(initialstate, findposofblank(initialstate))\n",
    "\t\tright = move_right(initialstate, findposofblank(initialstate))\n",
    "\t\tup = move_up(initialstate, findposofblank(initialstate))\n",
    "\t\tdown = move_down(initialstate, findposofblank(initialstate))\n",
    "\t\tfnl=1000\n",
    "\t\tfnr=1000\n",
    "\t\tfnu=1000\n",
    "\t\tfnd=1000\n",
    "\t\tif(left!=None):\n",
    "\t\t\tfnl = hn + gn(left,finalstate)\n",
    "\t\tif(right!=None):\n",
    "\t\t\tfnr = hn + gn(right,finalstate)\n",
    "\t\tif(up!=None):\n",
    "\t\t\tfnu = hn + gn(up,finalstate)\n",
    "\t\tif(down!=None):\n",
    "\t\t\tfnd = hn + gn(down,finalstate)\n",
    "\t\tminfn = min(fnl, fnr, fnu, fnd)\n",
    "\t\tif((fnl == minfn) and (left not in explored)):\n",
    "\t\t\tinitialstate = left\n",
    "\t\telif((fnr == minfn) and (right not in explored)):\n",
    "\t\t\tinitialstate = right\n",
    "\t\telif((fnu == minfn) and (up not in explored)):\n",
    "\t\t\tinitialstate = up\n",
    "\t\telif((fnd == minfn) and (down not in explored)):\n",
    "\t\t\tinitialstate = down\n",
    "\tprintMatrix(explored)"
   ]
  },
  {
   "cell_type": "code",
   "execution_count": 23,
   "id": "07998bbe-8ef6-497e-8843-161450394245",
   "metadata": {
    "scrolled": true
   },
   "outputs": [
    {
     "name": "stdin",
     "output_type": "stream",
     "text": [
      "PRESS 1 to continue and 0 to Exit :  1\n"
     ]
    },
    {
     "name": "stdout",
     "output_type": "stream",
     "text": [
      "START STATE\n",
      "\n"
     ]
    },
    {
     "name": "stdin",
     "output_type": "stream",
     "text": [
      "Enter element at  0,0:  1\n",
      "Enter element at  0,1:  2\n",
      "Enter element at  0,2:  3\n",
      "Enter element at  1,0:  -1\n",
      "Enter element at  1,1:  4\n",
      "Enter element at  1,2:  6\n",
      "Enter element at  2,0:  7\n",
      "Enter element at  2,1:  5\n",
      "Enter element at  2,2:  8\n"
     ]
    },
    {
     "name": "stdout",
     "output_type": "stream",
     "text": [
      "FINAL STATE\n",
      "\n"
     ]
    },
    {
     "name": "stdin",
     "output_type": "stream",
     "text": [
      "Enter element at  0,0:  1\n",
      "Enter element at  0,1:  2\n",
      "Enter element at  0,2:  3\n",
      "Enter element at  1,0:  4\n",
      "Enter element at  1,1:  5\n",
      "Enter element at  1,2:  6\n",
      "Enter element at  2,0:  7\n",
      "Enter element at  2,1:  8\n",
      "Enter element at  2,2:  -1\n"
     ]
    },
    {
     "name": "stdout",
     "output_type": "stream",
     "text": [
      "\n",
      "Step 1\n",
      "[1, 2, 3]\n",
      "[-1, 4, 6]\n",
      "[7, 5, 8]\n",
      "\n",
      "Step 2\n",
      "[1, 2, 3]\n",
      "[4, -1, 6]\n",
      "[7, 5, 8]\n",
      "\n",
      "Step 3\n",
      "[1, 2, 3]\n",
      "[4, 5, 6]\n",
      "[7, -1, 8]\n",
      "\n",
      "Step 4\n",
      "[1, 2, 3]\n",
      "[4, 5, 6]\n",
      "[7, 8, -1]\n",
      "\n"
     ]
    },
    {
     "name": "stdin",
     "output_type": "stream",
     "text": [
      "PRESS 1 to continue and 0 to Exit :  0\n"
     ]
    }
   ],
   "source": [
    "#eightPuzzle(initial, final)\n",
    "def main():\n",
    "\twhile(True):\n",
    "\t\tch = int(input(\"PRESS 1 to continue and 0 to Exit : \"))\n",
    "\t\tif(not ch):\n",
    "\t\t\tbreak\n",
    "\t\tstart = []\n",
    "\t\tprint(\"START STATE\\n\")\n",
    "\t\tfor i in range(3):\n",
    "\t\t\tarr=[]\n",
    "\t\t\tfor j in range(3):\n",
    "\t\t\t\ta = int(input(\"Enter element at  {},{}: \".format(i,j)))\n",
    "\t\t\t\tarr.append(a)\n",
    "\t\t\tstart.append(arr)\n",
    "\t\tfinal = []\n",
    "\t\tprint(\"FINAL STATE\\n\")\n",
    "\t\tfor i in range(3):\n",
    "\t\t\tarr=[]\n",
    "\t\t\tfor j in range(3):\n",
    "\t\t\t\ta = int(input(\"Enter element at  {},{}: \".format(i,j)))\n",
    "\t\t\t\tarr.append(a)\n",
    "\t\t\tfinal.append(arr)\n",
    "\t\teightPuzzle(start, final)\n",
    "main()"
   ]
  }
 ],
 "metadata": {
  "kernelspec": {
   "display_name": "Python 3 (ipykernel)",
   "language": "python",
   "name": "python3"
  },
  "language_info": {
   "codemirror_mode": {
    "name": "ipython",
    "version": 3
   },
   "file_extension": ".py",
   "mimetype": "text/x-python",
   "name": "python",
   "nbconvert_exporter": "python",
   "pygments_lexer": "ipython3",
   "version": "3.11.7"
  }
 },
 "nbformat": 4,
 "nbformat_minor": 5
}
